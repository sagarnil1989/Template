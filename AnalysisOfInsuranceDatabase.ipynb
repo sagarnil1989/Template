{
 "cells": [
  {
   "cell_type": "code",
   "execution_count": 1,
   "metadata": {
    "collapsed": false
   },
   "outputs": [],
   "source": [
    "#Importing the libraries\n",
    "import numpy as np\n",
    "import matplotlib.pyplot as plt\n",
    "import pandas as pd\n",
    "import seaborn as sb"
   ]
  },
  {
   "cell_type": "code",
   "execution_count": 2,
   "metadata": {
    "collapsed": false
   },
   "outputs": [
    {
     "data": {
      "text/plain": [
       "Policy Number       int64\n",
       "Year                int64\n",
       "IDV               float64\n",
       "City               object\n",
       "State              object\n",
       "Cubic Capacity      int64\n",
       "Mfr-Model          object\n",
       "Premium           float64\n",
       "Gender             object\n",
       "Age                object\n",
       "dtype: object"
      ]
     },
     "execution_count": 2,
     "metadata": {},
     "output_type": "execute_result"
    }
   ],
   "source": [
    "# Importing the dataset of xlsx format\n",
    "xls = pd.ExcelFile('Dataset//Data Visualization Graded Case Study Dataset.xlsx')\n",
    "data = pd.read_excel(xls, 'Data')\n",
    "data_desc = pd.read_excel(xls, 'Desc')\n",
    "data.dtypes"
   ]
  },
  {
   "cell_type": "code",
   "execution_count": 3,
   "metadata": {
    "collapsed": false
   },
   "outputs": [
    {
     "data": {
      "text/html": [
       "<div>\n",
       "<table border=\"1\" class=\"dataframe\">\n",
       "  <thead>\n",
       "    <tr style=\"text-align: right;\">\n",
       "      <th></th>\n",
       "      <th>Policy Number</th>\n",
       "      <th>Year</th>\n",
       "      <th>IDV</th>\n",
       "      <th>City</th>\n",
       "      <th>State</th>\n",
       "      <th>Cubic Capacity</th>\n",
       "      <th>Mfr-Model</th>\n",
       "      <th>Premium</th>\n",
       "      <th>Gender</th>\n",
       "      <th>Age</th>\n",
       "    </tr>\n",
       "  </thead>\n",
       "  <tbody>\n",
       "    <tr>\n",
       "      <th>0</th>\n",
       "      <td>3824243</td>\n",
       "      <td>2005</td>\n",
       "      <td>112919.550741</td>\n",
       "      <td>NEWDELHI</td>\n",
       "      <td>NCR</td>\n",
       "      <td>1250</td>\n",
       "      <td>Tata Indica</td>\n",
       "      <td>4496.000000</td>\n",
       "      <td>Female</td>\n",
       "      <td>18-25</td>\n",
       "    </tr>\n",
       "    <tr>\n",
       "      <th>1</th>\n",
       "      <td>3656181</td>\n",
       "      <td>2005</td>\n",
       "      <td>112891.395611</td>\n",
       "      <td>NEWDELHI</td>\n",
       "      <td>NCR</td>\n",
       "      <td>1250</td>\n",
       "      <td>Tata Indica</td>\n",
       "      <td>2901.645961</td>\n",
       "      <td>Male</td>\n",
       "      <td>25 - 30</td>\n",
       "    </tr>\n",
       "    <tr>\n",
       "      <th>2</th>\n",
       "      <td>4582783</td>\n",
       "      <td>2005</td>\n",
       "      <td>113846.461368</td>\n",
       "      <td>AHMEDABAD</td>\n",
       "      <td>Gujarat</td>\n",
       "      <td>1250</td>\n",
       "      <td>Tata Indica</td>\n",
       "      <td>2993.731367</td>\n",
       "      <td>Male</td>\n",
       "      <td>25 - 30</td>\n",
       "    </tr>\n",
       "    <tr>\n",
       "      <th>3</th>\n",
       "      <td>3287662</td>\n",
       "      <td>2005</td>\n",
       "      <td>111821.504450</td>\n",
       "      <td>INDORE</td>\n",
       "      <td>MADHYAPRADESH</td>\n",
       "      <td>1250</td>\n",
       "      <td>Tata Indica</td>\n",
       "      <td>3032.080573</td>\n",
       "      <td>Male</td>\n",
       "      <td>30 - 40</td>\n",
       "    </tr>\n",
       "    <tr>\n",
       "      <th>4</th>\n",
       "      <td>4852610</td>\n",
       "      <td>2005</td>\n",
       "      <td>114843.809135</td>\n",
       "      <td>KOLKATTA</td>\n",
       "      <td>WEST BENGAL</td>\n",
       "      <td>1250</td>\n",
       "      <td>Tata Indica</td>\n",
       "      <td>3049.827682</td>\n",
       "      <td>Male</td>\n",
       "      <td>40 - 50</td>\n",
       "    </tr>\n",
       "  </tbody>\n",
       "</table>\n",
       "</div>"
      ],
      "text/plain": [
       "   Policy Number  Year            IDV       City          State  \\\n",
       "0        3824243  2005  112919.550741   NEWDELHI            NCR   \n",
       "1        3656181  2005  112891.395611   NEWDELHI            NCR   \n",
       "2        4582783  2005  113846.461368  AHMEDABAD        Gujarat   \n",
       "3        3287662  2005  111821.504450     INDORE  MADHYAPRADESH   \n",
       "4        4852610  2005  114843.809135   KOLKATTA    WEST BENGAL   \n",
       "\n",
       "   Cubic Capacity    Mfr-Model      Premium  Gender      Age  \n",
       "0            1250  Tata Indica  4496.000000  Female    18-25  \n",
       "1            1250  Tata Indica  2901.645961    Male  25 - 30  \n",
       "2            1250  Tata Indica  2993.731367    Male  25 - 30  \n",
       "3            1250  Tata Indica  3032.080573    Male  30 - 40  \n",
       "4            1250  Tata Indica  3049.827682    Male  40 - 50  "
      ]
     },
     "execution_count": 3,
     "metadata": {},
     "output_type": "execute_result"
    }
   ],
   "source": [
    "data.head()"
   ]
  },
  {
   "cell_type": "code",
   "execution_count": 7,
   "metadata": {
    "collapsed": false
   },
   "outputs": [
    {
     "data": {
      "text/plain": [
       "Policy Number     0\n",
       "Year              0\n",
       "IDV               0\n",
       "City              0\n",
       "State             0\n",
       "Cubic Capacity    0\n",
       "Mfr-Model         0\n",
       "Premium           0\n",
       "Gender            0\n",
       "Age               0\n",
       "dtype: int64"
      ]
     },
     "execution_count": 7,
     "metadata": {},
     "output_type": "execute_result"
    }
   ],
   "source": [
    "#Cleaning up the independent varibales\n",
    "#Checking for missing values\n",
    "#converting PolicyNumber to String\n",
    "data.isnull().sum()"
   ]
  },
  {
   "cell_type": "markdown",
   "metadata": {},
   "source": [
    "#Is null function showing no missing value but Age column has values as True which doesnot have any meaning"
   ]
  },
  {
   "cell_type": "code",
   "execution_count": 5,
   "metadata": {
    "collapsed": false
   },
   "outputs": [
    {
     "data": {
      "text/plain": [
       "30 - 40    539\n",
       "40 - 50    443\n",
       "25 - 30    407\n",
       "18-25      297\n",
       "50 - 60    186\n",
       "60 - 70     86\n",
       "True        52\n",
       "Name: Age, dtype: int64"
      ]
     },
     "execution_count": 5,
     "metadata": {},
     "output_type": "execute_result"
    }
   ],
   "source": [
    "data['Age'].value_counts()"
   ]
  },
  {
   "cell_type": "code",
   "execution_count": 27,
   "metadata": {
    "collapsed": false
   },
   "outputs": [],
   "source": [
    "#Age has 52 missing values which needs to be replaced\n",
    "#Lets box plot Premium in diffrent Age group\n",
    "import seaborn as sb\n",
    "bplot = sb.boxplot(x='Age', y='Premium', data=data)\n"
   ]
  },
  {
   "cell_type": "code",
   "execution_count": null,
   "metadata": {
    "collapsed": false
   },
   "outputs": [],
   "source": []
  },
  {
   "cell_type": "code",
   "execution_count": null,
   "metadata": {
    "collapsed": true
   },
   "outputs": [],
   "source": []
  },
  {
   "cell_type": "code",
   "execution_count": null,
   "metadata": {
    "collapsed": true
   },
   "outputs": [],
   "source": []
  }
 ],
 "metadata": {
  "anaconda-cloud": {},
  "kernelspec": {
   "display_name": "Python [default]",
   "language": "python",
   "name": "python3"
  },
  "language_info": {
   "codemirror_mode": {
    "name": "ipython",
    "version": 3
   },
   "file_extension": ".py",
   "mimetype": "text/x-python",
   "name": "python",
   "nbconvert_exporter": "python",
   "pygments_lexer": "ipython3",
   "version": "3.5.2"
  }
 },
 "nbformat": 4,
 "nbformat_minor": 1
}
